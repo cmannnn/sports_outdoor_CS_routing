{
  "cells": [
    {
      "cell_type": "markdown",
      "metadata": {
        "id": "PWde-hdtM0Go"
      },
      "source": [
        "# DTSA 5511 - Intro to Deep Learning\n",
        "\n",
        "## Building a Customer Service Router for Outdoor Gear Retail\n"
      ]
    },
    {
      "cell_type": "markdown",
      "metadata": {
        "id": "FWB4HgEzO5B_"
      },
      "source": [
        "## Introduction"
      ]
    },
    {
      "cell_type": "markdown",
      "metadata": {
        "id": "UptWn0AFPTlq"
      },
      "source": [
        "##Overview"
      ]
    },
    {
      "cell_type": "markdown",
      "source": [
        "In this project, we will aim to develop a customer service routing system that will aid outdoor gear and apparel customer questions to route text inquiries into three distinct categories. This classification system could be implemented as a tool for an online outdoor gear customer service tean to more efficiently route customer questions to specific individuals with knowledge on the topic. The tool would be able to streamline the following:\n",
        "\n",
        "1.   Reducing response time through automatic routing\n",
        "2.   Ensuring consistent handling of common inquiry types\n",
        "3.   Allowing customer service representatives to focus on complex cases\n",
        "\n",
        "This project will utilize deep learning, specifically a Bidirectional Long Short-Term Memory (BiLSTM) neural network architecture with attention mechanisms to classify customer inquiries into three distinct categories.\n",
        "\n",
        "###The Data\n",
        "\n",
        "To train the BiLSTM model, we will be using the Amazon Sports & Outdoors product dataset. This dataset contains product reviews and metadata from Amazon including 12.8 million reviews from May 1996 -> July 2014. While the dataset wasn't originally designed for customer service applications, the customer insights included is very valuable to train a BiLSTM model for a project such as this. The dataset includes reviews including rating specific columns (text, a helpfulnes score, etc.) and product columns (descriptions, category info, price, brand, image features, etc.).\n",
        "\n",
        "\n",
        "###Intent Classification System\n",
        "\n",
        "\n",
        "The model that will be developed in this notebook will aim to accurately categorize customer questions into three categories:\n",
        "\n",
        "1.   Sizing Questions (fit guidance, size comparisons)\n",
        "2.   Technical Specifications (material properties, product features)\n",
        "3.   Product Recommendations (=gear suggestions based on use case)\n",
        "\n",
        "There will also be a catch all 'other' category.\n",
        "\n",
        "###Technical Implementation\n",
        "\n",
        "From a technical perspective a BiLSTM architecture model will be built and trained with bi-directional processing, attention mechanisms that will provide greater weight to critial parts of a customer quesion, word embeddings to capture semantic relationships.\n",
        "\n",
        "Here is a step by step overview to on how the BiLSTM classifier will be implemented.\n",
        "\n",
        "\n",
        "###Input Processing\n",
        "\n",
        "\n",
        "Customer inquiries are tokenized and converted into word embeddings. Then these sequences are standardized.\n",
        "\n",
        "\n",
        "###Core Architecture\n",
        "\n",
        "\n",
        "The Bidirectional LSTM layers will process text in both a forward and backward manner. Attention mechanisms will achieve to identify key phrases. Dropout layers will attempt to prevent overfitting. Dense layers will map to the final classifications.\n",
        "\n",
        "This system will serve as an automated customer service routing system with the ability for potential expansion and implementation to a online outdoor gear platform."
      ],
      "metadata": {
        "id": "H3tFt7YwRBDR"
      }
    },
    {
      "cell_type": "markdown",
      "metadata": {
        "id": "CxQ-KEGHO6jQ"
      },
      "source": [
        "## Imports"
      ]
    },
    {
      "cell_type": "code",
      "execution_count": 1,
      "metadata": {
        "colab": {
          "base_uri": "https://localhost:8080/"
        },
        "id": "6WrQug1MQBFg",
        "outputId": "aa559ed6-1eda-4962-d67d-5929f892cc5f"
      },
      "outputs": [
        {
          "output_type": "stream",
          "name": "stderr",
          "text": [
            "[nltk_data] Downloading package punkt to /root/nltk_data...\n",
            "[nltk_data]   Unzipping tokenizers/punkt.zip.\n",
            "[nltk_data] Downloading package punkt_tab to /root/nltk_data...\n",
            "[nltk_data]   Unzipping tokenizers/punkt_tab.zip.\n",
            "[nltk_data] Downloading package stopwords to /root/nltk_data...\n",
            "[nltk_data]   Unzipping corpora/stopwords.zip.\n"
          ]
        },
        {
          "output_type": "execute_result",
          "data": {
            "text/plain": [
              "True"
            ]
          },
          "metadata": {},
          "execution_count": 1
        }
      ],
      "source": [
        "# general imports\n",
        "import json\n",
        "import pandas as pd\n",
        "import gzip\n",
        "import numpy as np\n",
        "import matplotlib.pyplot as plt\n",
        "import random\n",
        "import re\n",
        "import time\n",
        "from tqdm import tqdm\n",
        "from collections import Counter\n",
        "from sklearn.model_selection import train_test_split\n",
        "from sklearn.metrics import classification_report\n",
        "\n",
        "# torch specific imports\n",
        "import torch\n",
        "import torch.nn as nn\n",
        "from torch.utils.data import Dataset, DataLoader, TensorDataset\n",
        "import torch.nn.functional as F\n",
        "\n",
        "# nltk specific imports\n",
        "import nltk\n",
        "from nltk.corpus import stopwords\n",
        "from nltk.tokenize import word_tokenize\n",
        "nltk.download('punkt')\n",
        "nltk.download('punkt_tab')\n",
        "nltk.download('stopwords')"
      ]
    },
    {
      "cell_type": "code",
      "execution_count": 2,
      "metadata": {
        "colab": {
          "base_uri": "https://localhost:8080/"
        },
        "id": "Lel11ybkQcPC",
        "outputId": "69bacdf2-6e8d-49e7-eb14-ee524f4322e3"
      },
      "outputs": [
        {
          "output_type": "stream",
          "name": "stdout",
          "text": [
            "Mounted at /content/drive\n"
          ]
        }
      ],
      "source": [
        "# mounting our Google Drive\n",
        "from google.colab import drive\n",
        "drive.mount('/content/drive')"
      ]
    },
    {
      "cell_type": "markdown",
      "metadata": {
        "id": "pFTGfzywP-cG"
      },
      "source": [
        "## Data Loading"
      ]
    },
    {
      "cell_type": "code",
      "execution_count": 5,
      "metadata": {
        "id": "pbaJWuWgfWud"
      },
      "outputs": [],
      "source": [
        "# the original dataset is massive (3.2 million rows), even limiting to only the sports and outdoors category\n",
        "# here I am sampling the data down to 750000 rows to keep the training and pre-processing time down\n",
        "# in this example, I am sampling based on a random number generator\n",
        "def parse_and_sample(path, n_samples = 750000, random_seed = 420):\n",
        "    random.seed(random_seed)\n",
        "    data = []\n",
        "    count = 0\n",
        "\n",
        "    with gzip.open(path, 'rb') as g:\n",
        "        for line in g:\n",
        "            if count < n_samples or random.random() < n_samples / float(count + 1):\n",
        "                try:\n",
        "                    parsed_line = eval(line)\n",
        "                    if count < n_samples:\n",
        "                        data.append(parsed_line)\n",
        "                    else:\n",
        "                        replace_idx = random.randint(0, n_samples - 1)\n",
        "                        data[replace_idx] = parsed_line\n",
        "                except:\n",
        "                    continue\n",
        "\n",
        "            count += 1\n",
        "            if count % 100000 == 0:\n",
        "                print(f\"Processed {count} rows...\")\n",
        "\n",
        "    print(f\"Finished processing {count} total rows\")\n",
        "    return pd.DataFrame(data)"
      ]
    },
    {
      "cell_type": "code",
      "execution_count": 6,
      "metadata": {
        "colab": {
          "base_uri": "https://localhost:8080/"
        },
        "id": "kmwQmjEt5ieq",
        "outputId": "8b87f56c-81cf-4904-df64-fa8be73fbf40"
      },
      "outputs": [
        {
          "output_type": "stream",
          "name": "stdout",
          "text": [
            "Processed 100000 rows...\n",
            "Processed 200000 rows...\n",
            "Processed 300000 rows...\n",
            "Processed 400000 rows...\n",
            "Processed 500000 rows...\n",
            "Processed 600000 rows...\n",
            "Processed 700000 rows...\n",
            "Processed 800000 rows...\n",
            "Processed 900000 rows...\n",
            "Processed 1000000 rows...\n",
            "Processed 1100000 rows...\n",
            "Processed 1200000 rows...\n",
            "Processed 1300000 rows...\n",
            "Processed 1400000 rows...\n",
            "Processed 1500000 rows...\n",
            "Processed 1600000 rows...\n",
            "Processed 1700000 rows...\n",
            "Processed 1800000 rows...\n",
            "Processed 1900000 rows...\n",
            "Processed 2000000 rows...\n",
            "Processed 2100000 rows...\n",
            "Processed 2200000 rows...\n",
            "Processed 2300000 rows...\n",
            "Processed 2400000 rows...\n",
            "Processed 2500000 rows...\n",
            "Processed 2600000 rows...\n",
            "Processed 2700000 rows...\n",
            "Processed 2800000 rows...\n",
            "Processed 2900000 rows...\n",
            "Processed 3000000 rows...\n",
            "Processed 3100000 rows...\n",
            "Processed 3200000 rows...\n",
            "Finished processing 3268695 total rows\n"
          ]
        }
      ],
      "source": [
        "# passing along our sports and outdoors dataset to the function above\n",
        "df_sampled = parse_and_sample('/content/drive/MyDrive/DTSA 5511 - Intro to Deep Learning/reviews_Sports_and_Outdoors.json.gz', n_samples=750000)"
      ]
    },
    {
      "cell_type": "markdown",
      "metadata": {
        "id": "WB_dynTDSTXj"
      },
      "source": [
        "### Intent"
      ]
    },
    {
      "cell_type": "code",
      "execution_count": 7,
      "metadata": {
        "id": "jqw1GMYLpP8w"
      },
      "outputs": [],
      "source": [
        "def clean_text(text):\n",
        "    \"\"\"\n",
        "    this function cleans and normalizes our text by converting to lowercase, removing special characters, and extra whitespace\n",
        "\n",
        "    args:\n",
        "        - text: text string\n",
        "    returns:\n",
        "        - cleaned text string\n",
        "    \"\"\"\n",
        "    text = text.lower()\n",
        "    text = re.sub(r'[^a-zA-Z\\s]', '', text)\n",
        "    text = re.sub(r'\\s+', ' ', text).strip()\n",
        "    return text"
      ]
    },
    {
      "cell_type": "code",
      "execution_count": 8,
      "metadata": {
        "id": "4a2t9puxUtbw"
      },
      "outputs": [],
      "source": [
        "def preprocess_reviews(df):\n",
        "    \"\"\"\n",
        "    this function preprocesses the dataset. It will:\n",
        "        - create a 'full_text' col that will combine the summary of the review and the review itself\n",
        "        - create a 'cleaned_text' col that will apply the clean_text function previously defined\n",
        "        - remove any empty reviews\n",
        "        - remove any duplicate reviews\n",
        "\n",
        "    args:\n",
        "        - df: review dataframe\n",
        "    returns:\n",
        "        - preprocessed review dataframe\n",
        "    \"\"\"\n",
        "    df_processed = df_sampled.copy()\n",
        "    df_processed['full_text'] = df_processed['summary'] + ' ' + df_processed['reviewText']\n",
        "    df_processed['cleaned_text'] = df_processed['full_text'].fillna('').apply(clean_text)\n",
        "    df_processed = df_processed[df_processed['cleaned_text'].str.len() > 0]\n",
        "    df_processed = df_processed.drop_duplicates(subset = ['cleaned_text'])\n",
        "    return df_processed"
      ]
    },
    {
      "cell_type": "code",
      "execution_count": 9,
      "metadata": {
        "id": "TYpjJO--TNaa"
      },
      "outputs": [],
      "source": [
        "df_processed = preprocess_reviews(df_sampled)"
      ]
    },
    {
      "cell_type": "code",
      "execution_count": 10,
      "metadata": {
        "id": "PZSMwSytFEFA"
      },
      "outputs": [],
      "source": [
        "def assign_intent_labels(text):\n",
        "    \"\"\"\n",
        "    this function assigns intent labels based on the content of the cleaned text\n",
        "    the labels are:\n",
        "        0: sizing questions\n",
        "        1: technical specs\n",
        "        2: product recommendations\n",
        "        3: other\n",
        "    \"\"\"\n",
        "    text = text.lower()\n",
        "\n",
        "    # category keywords\n",
        "    sizing_keywords = [\n",
        "        # basic sizes\n",
        "        'size', 'sized', 'sizing',\n",
        "        'fit', 'fits', 'fitted', 'fitting',\n",
        "        'length', 'width', 'height',\n",
        "\n",
        "        # size categories\n",
        "        'small', 'medium', 'large', 'xl', 'xxl', 'xs',\n",
        "        'petite', 'plus', 'regular', 'tall', 'short',\n",
        "\n",
        "        # fit descriptions\n",
        "        'tight', 'loose', 'snug', 'baggy', 'roomy',\n",
        "        'oversized', 'undersized', 'bigger', 'smaller',\n",
        "        'comfortable', 'uncomfortable', 'comfy',\n",
        "\n",
        "        # measurements relating to sizes\n",
        "        'measurement', 'measurements',\n",
        "        'waist', 'chest', 'hip', 'shoulder',\n",
        "        'sleeve', 'inseam', 'bust', 'thigh',\n",
        "        'dimension', 'dimensions',\n",
        "\n",
        "        # size phrases\n",
        "        'runs small', 'runs large', 'runs big',\n",
        "        'true to size', 'tts',\n",
        "        'how does it fit', 'what size',\n",
        "        'size up', 'size down',\n",
        "        'wear', 'wearing'\n",
        "    ]\n",
        "\n",
        "    tech_keywords = [\n",
        "        # tech materials\n",
        "        'material', 'fabric', 'textile', 'leather',\n",
        "        'cotton', 'polyester', 'wool', 'nylon',\n",
        "        'spandex', 'elastic', 'synthetic', 'mesh',\n",
        "        'lining', 'canvas', 'rubber', 'suede',\n",
        "        'construction', 'made of', 'composition',\n",
        "\n",
        "        # tech features\n",
        "        'waterproof', 'water-resistant', 'breathable',\n",
        "        'moisture-wicking', 'weatherproof', 'windproof',\n",
        "        'insulated', 'thermal', 'ventilated',\n",
        "        'reinforced', 'padded', 'cushioned',\n",
        "        'durable', 'lightweight', 'heavy-duty',\n",
        "\n",
        "        # tech specs\n",
        "        'specification', 'specs', 'features',\n",
        "        'weight', 'capacity', 'volume',\n",
        "        'temperature', 'rating', 'performance',\n",
        "        'technology', 'technical', 'durability',\n",
        "\n",
        "        # tech components\n",
        "        'zipper', 'pocket', 'strap', 'closure',\n",
        "        'seam', 'stitching', 'sole', 'hood',\n",
        "        'button', 'velcro', 'drawstring',\n",
        "\n",
        "        # tech performance\n",
        "        'quality', 'performance', 'function',\n",
        "        'design', 'protection', 'support',\n",
        "        'comfort', 'grip', 'traction',\n",
        "        'flexibility', 'strength', 'structure'\n",
        "    ]\n",
        "\n",
        "    recommendation_keywords = [\n",
        "        # recommendation words\n",
        "        'recommend', 'recommendation', 'recommended',\n",
        "        'suggest', 'suggestion', 'suggested',\n",
        "        'advice', 'advise', 'guidance',\n",
        "\n",
        "        # comparison terms\n",
        "        'best', 'better', 'worse', 'worst',\n",
        "        'alternative', 'alternatives',\n",
        "        'similar', 'different', 'comparable',\n",
        "        'versus', 'vs', 'compare',\n",
        "        'preference', 'preferred',\n",
        "\n",
        "        # intent\n",
        "        'looking for', 'searching for', 'need',\n",
        "        'want', 'considering', 'thinking about',\n",
        "        'choose', 'deciding', 'decision',\n",
        "        'option', 'options', 'choice', 'choices',\n",
        "\n",
        "        # suitability\n",
        "        'good for', 'suitable for', 'appropriate for',\n",
        "        'work for', 'ideal for', 'perfect for',\n",
        "        'worth it', 'worth the',\n",
        "\n",
        "        # use case words\n",
        "        'use case', 'purpose', 'activity',\n",
        "        'occasion', 'situation', 'scenario',\n",
        "        'when should', 'where should',\n",
        "\n",
        "        # opinion words\n",
        "        'opinion', 'thoughts', 'experience',\n",
        "        'feedback', 'review', 'insight',\n",
        "        'what do you think', 'would you',\n",
        "        'should i', 'do you recommend'\n",
        "    ]\n",
        "\n",
        "    if any(keyword in text for keyword in sizing_keywords):\n",
        "        return 0\n",
        "    elif any(keyword in text for keyword in tech_keywords):\n",
        "        return 1\n",
        "    elif any(keyword in text for keyword in recommendation_keywords):\n",
        "        return 2\n",
        "    else:\n",
        "        return 3"
      ]
    },
    {
      "cell_type": "code",
      "execution_count": 11,
      "metadata": {
        "id": "0yrlwAfDi5_c"
      },
      "outputs": [],
      "source": [
        "# applying labels to cleaned text\n",
        "df_processed['intent_label'] = df_processed['cleaned_text'].apply(assign_intent_labels)"
      ]
    },
    {
      "cell_type": "code",
      "execution_count": 12,
      "metadata": {
        "colab": {
          "base_uri": "https://localhost:8080/",
          "height": 241
        },
        "id": "bUj7xJaIoQPd",
        "outputId": "1ba80a38-7f26-42c1-dcde-9038ed40a9b2"
      },
      "outputs": [
        {
          "output_type": "execute_result",
          "data": {
            "text/plain": [
              "intent_label\n",
              "0    386388\n",
              "3    132465\n",
              "1    122783\n",
              "2    107155\n",
              "Name: count, dtype: int64"
            ],
            "text/html": [
              "<div>\n",
              "<style scoped>\n",
              "    .dataframe tbody tr th:only-of-type {\n",
              "        vertical-align: middle;\n",
              "    }\n",
              "\n",
              "    .dataframe tbody tr th {\n",
              "        vertical-align: top;\n",
              "    }\n",
              "\n",
              "    .dataframe thead th {\n",
              "        text-align: right;\n",
              "    }\n",
              "</style>\n",
              "<table border=\"1\" class=\"dataframe\">\n",
              "  <thead>\n",
              "    <tr style=\"text-align: right;\">\n",
              "      <th></th>\n",
              "      <th>count</th>\n",
              "    </tr>\n",
              "    <tr>\n",
              "      <th>intent_label</th>\n",
              "      <th></th>\n",
              "    </tr>\n",
              "  </thead>\n",
              "  <tbody>\n",
              "    <tr>\n",
              "      <th>0</th>\n",
              "      <td>386388</td>\n",
              "    </tr>\n",
              "    <tr>\n",
              "      <th>3</th>\n",
              "      <td>132465</td>\n",
              "    </tr>\n",
              "    <tr>\n",
              "      <th>1</th>\n",
              "      <td>122783</td>\n",
              "    </tr>\n",
              "    <tr>\n",
              "      <th>2</th>\n",
              "      <td>107155</td>\n",
              "    </tr>\n",
              "  </tbody>\n",
              "</table>\n",
              "</div><br><label><b>dtype:</b> int64</label>"
            ]
          },
          "metadata": {},
          "execution_count": 12
        }
      ],
      "source": [
        "# checking the count of each intent label\n",
        "# the distribution is pretty good here, this will help out model during training\n",
        "df_processed['intent_label'].value_counts()"
      ]
    },
    {
      "cell_type": "markdown",
      "metadata": {
        "id": "Jqa8pnU3iSu7"
      },
      "source": [
        "With some basic EDA completed, we can now move on to building our model. We will be implementing a BiLSTM classification model. It's goal will be to classify which category the reivew belongs to. Our classification labels will be:\n",
        "\n",
        "*   sizing\n",
        "*   technical specs\n",
        "*   product recommendations\n",
        "*   other (catch all bucket for questions that do not fall into any of the other 3 categories)\n",
        "\n"
      ]
    },
    {
      "cell_type": "code",
      "execution_count": 13,
      "metadata": {
        "id": "yAvPOtXBUz4O"
      },
      "outputs": [],
      "source": [
        "def tokenize_text(text):\n",
        "    \"\"\"\n",
        "    tokenize the text and remove any nltk stopwords\n",
        "\n",
        "    args:\n",
        "        - text: input text\n",
        "    returns:\n",
        "        - tokens in list form\n",
        "    \"\"\"\n",
        "    # using nltk's word_tokenize\n",
        "    tokens = word_tokenize(text)\n",
        "\n",
        "    # removing stopwords from nltk's stopwords list\n",
        "    stop_words = set(stopwords.words('english'))\n",
        "    tokens = [token for token in tokens if token not in stop_words]\n",
        "\n",
        "    return tokens"
      ]
    },
    {
      "cell_type": "code",
      "execution_count": 14,
      "metadata": {
        "id": "Wcet1tmKU4fi"
      },
      "outputs": [],
      "source": [
        "# to begin our BiLSTM framework, we need to convert our text to numerical inputs\n",
        "# as neural networds cannot process text directly. We will use the following function\n",
        "# to create a mapping for each unique word. We will also include a maximum number\n",
        "# of unique words the model will need to handle and will remove words that come up\n",
        "# less than a certain number of times.\n",
        "def create_vocabulary(texts, max_vocab_size = 10000, min_freq = 2):\n",
        "    \"\"\"\n",
        "    creating a word mapping vocabulary from text\n",
        "\n",
        "    args:\n",
        "        - texts: text strings\n",
        "        - max_vocab_size: max vocab size\n",
        "        - min_freq: min word frequency\n",
        "    returns:\n",
        "        - word2idx: word to index mapping\n",
        "        - idx2word: inverse index to word mapping\n",
        "    \"\"\"\n",
        "    # first counting the frequency of each word\n",
        "    word_freq = {}\n",
        "    for text in texts:\n",
        "        tokens = tokenize_text(text)\n",
        "        for token in tokens:\n",
        "            word_freq[token] = word_freq.get(token, 0) + 1\n",
        "\n",
        "    # next filtering out rare words and sorting by the number of instances\n",
        "    word_freq = {k: v for k, v in word_freq.items() if v >= min_freq}\n",
        "    word_freq = dict(sorted(word_freq.items(), key=lambda x: x[1], reverse=True)[:max_vocab_size - 2])\n",
        "\n",
        "    # finally creating the mappings with padding\n",
        "    word2idx = {'<PAD>': 0, '<UNK>': 1}\n",
        "    word2idx.update({word: idx + 2 for idx, word in enumerate(word_freq.keys())})\n",
        "    idx2word = {idx: word for word, idx in word2idx.items()}\n",
        "\n",
        "    return word2idx, idx2word"
      ]
    },
    {
      "cell_type": "code",
      "execution_count": 15,
      "metadata": {
        "id": "g_pHQIzmU7k9"
      },
      "outputs": [],
      "source": [
        "def prepare_data_for_training(df_processed, max_seq_length = 200):\n",
        "    \"\"\"\n",
        "    Prepare data for model training including sequence lengths\n",
        "\n",
        "    Args:\n",
        "        - df_processed: preprocessed dataframe\n",
        "        - max_seq_length: max sequence length\n",
        "    Returns:\n",
        "        - X_tensor: padded sequence tensor\n",
        "        - lengths_tensor: sequence lengths tensor\n",
        "        - word2idx: vocabulary mapping\n",
        "    \"\"\"\n",
        "    # Create vocabulary using the 'cleaned_text'\n",
        "    word2idx, idx2word = create_vocabulary(df_processed['cleaned_text'])\n",
        "\n",
        "    # Convert texts to sequences and track lengths\n",
        "    X = []\n",
        "    lengths = []\n",
        "\n",
        "    for text in df_processed['cleaned_text']:\n",
        "        tokens = tokenize_text(text)\n",
        "        # Get sequence length before truncation\n",
        "        length = min(len(tokens), max_seq_length)\n",
        "        # Convert tokens to indices with truncation\n",
        "        sequence = [word2idx.get(token, word2idx['<UNK>']) for token in tokens[:max_seq_length]]\n",
        "        # Pad sequence if necessary\n",
        "        if len(sequence) < max_seq_length:\n",
        "            sequence = sequence + [word2idx['<PAD>']] * (max_seq_length - len(sequence))\n",
        "\n",
        "        X.append(sequence)\n",
        "        lengths.append(length)\n",
        "\n",
        "    # Convert to tensors\n",
        "    X_tensor = torch.tensor(X, dtype=torch.long)\n",
        "    lengths_tensor = torch.tensor(lengths, dtype=torch.long)\n",
        "\n",
        "    return X_tensor, lengths_tensor, word2idx"
      ]
    },
    {
      "cell_type": "code",
      "execution_count": 16,
      "metadata": {
        "id": "n7e5k7H8U-i7"
      },
      "outputs": [],
      "source": [
        "# Updated main function\n",
        "def main():\n",
        "    # Preprocessing the data\n",
        "    # df_processed = preprocess_reviews(df_sampled)\n",
        "\n",
        "    # Creating sequences and getting lengths\n",
        "    X_tensor, lengths_tensor, word2idx = prepare_data_for_training(df_processed)\n",
        "\n",
        "    # Prepare labels\n",
        "    y_tensor = torch.tensor(df_processed['intent_label'].values)\n",
        "\n",
        "    # Split indices\n",
        "    train_idx, val_idx = train_test_split(\n",
        "        range(len(X_tensor)),\n",
        "        test_size=0.2,\n",
        "        random_state=42\n",
        "    )\n",
        "\n",
        "    # Create datasets\n",
        "    train_dataset = TensorDataset(\n",
        "        X_tensor[train_idx],\n",
        "        y_tensor[train_idx],\n",
        "        lengths_tensor[train_idx]\n",
        "    )\n",
        "\n",
        "    val_dataset = TensorDataset(\n",
        "        X_tensor[val_idx],\n",
        "        y_tensor[val_idx],\n",
        "        lengths_tensor[val_idx]\n",
        "    )\n",
        "\n",
        "    # Create dataloaders\n",
        "    batch_size = 32\n",
        "    train_loader = DataLoader(train_dataset, batch_size=batch_size, shuffle=True)\n",
        "    val_loader = DataLoader(val_dataset, batch_size=batch_size)\n",
        "\n",
        "    return df_processed, train_loader, val_loader, word2idx"
      ]
    },
    {
      "cell_type": "code",
      "execution_count": 17,
      "metadata": {
        "id": "3-6r2ddEgeVm"
      },
      "outputs": [],
      "source": [
        "# calling our main preprocessing function\n",
        "df_processed, train_loader, val_loader, word2idx = main()"
      ]
    },
    {
      "cell_type": "code",
      "execution_count": 18,
      "metadata": {
        "colab": {
          "base_uri": "https://localhost:8080/",
          "height": 164
        },
        "id": "XHLC9R2DBeML",
        "outputId": "a65a8555-edb2-48df-b023-027faf552063"
      },
      "outputs": [
        {
          "output_type": "execute_result",
          "data": {
            "text/plain": [
              "       reviewerID        asin       reviewerName helpful  \\\n",
              "0  A1B2O75PZ5ZC78  B00I7HYXG0  Kurt W. Martinsen  [0, 0]   \n",
              "1  A3UO3IKUOF5XHD  B001PQNI70              KEN F  [0, 0]   \n",
              "\n",
              "                                          reviewText  overall  \\\n",
              "0  This is exactly what I expected to receive whe...      5.0   \n",
              "1  THIS HANDGUN IS ONE THAT NO ONE MAKES A REGULA...      5.0   \n",
              "\n",
              "                                             summary  unixReviewTime  \\\n",
              "0  Exactly what I expected to receive when I orde...      1394668800   \n",
              "1  GOOD FIT FOR A TAURUS 9MM THAT THERE ARE NO HO...      1301961600   \n",
              "\n",
              "    reviewTime                                          full_text  \\\n",
              "0  03 13, 2014  Exactly what I expected to receive when I orde...   \n",
              "1   04 5, 2011  GOOD FIT FOR A TAURUS 9MM THAT THERE ARE NO HO...   \n",
              "\n",
              "                                        cleaned_text  intent_label  \n",
              "0  exactly what i expected to receive when i orde...             3  \n",
              "1  good fit for a taurus mm that there are no hol...             0  "
            ],
            "text/html": [
              "\n",
              "  <div id=\"df-c92443c1-bc44-45ff-b5ee-d22fdd227c08\" class=\"colab-df-container\">\n",
              "    <div>\n",
              "<style scoped>\n",
              "    .dataframe tbody tr th:only-of-type {\n",
              "        vertical-align: middle;\n",
              "    }\n",
              "\n",
              "    .dataframe tbody tr th {\n",
              "        vertical-align: top;\n",
              "    }\n",
              "\n",
              "    .dataframe thead th {\n",
              "        text-align: right;\n",
              "    }\n",
              "</style>\n",
              "<table border=\"1\" class=\"dataframe\">\n",
              "  <thead>\n",
              "    <tr style=\"text-align: right;\">\n",
              "      <th></th>\n",
              "      <th>reviewerID</th>\n",
              "      <th>asin</th>\n",
              "      <th>reviewerName</th>\n",
              "      <th>helpful</th>\n",
              "      <th>reviewText</th>\n",
              "      <th>overall</th>\n",
              "      <th>summary</th>\n",
              "      <th>unixReviewTime</th>\n",
              "      <th>reviewTime</th>\n",
              "      <th>full_text</th>\n",
              "      <th>cleaned_text</th>\n",
              "      <th>intent_label</th>\n",
              "    </tr>\n",
              "  </thead>\n",
              "  <tbody>\n",
              "    <tr>\n",
              "      <th>0</th>\n",
              "      <td>A1B2O75PZ5ZC78</td>\n",
              "      <td>B00I7HYXG0</td>\n",
              "      <td>Kurt W. Martinsen</td>\n",
              "      <td>[0, 0]</td>\n",
              "      <td>This is exactly what I expected to receive whe...</td>\n",
              "      <td>5.0</td>\n",
              "      <td>Exactly what I expected to receive when I orde...</td>\n",
              "      <td>1394668800</td>\n",
              "      <td>03 13, 2014</td>\n",
              "      <td>Exactly what I expected to receive when I orde...</td>\n",
              "      <td>exactly what i expected to receive when i orde...</td>\n",
              "      <td>3</td>\n",
              "    </tr>\n",
              "    <tr>\n",
              "      <th>1</th>\n",
              "      <td>A3UO3IKUOF5XHD</td>\n",
              "      <td>B001PQNI70</td>\n",
              "      <td>KEN F</td>\n",
              "      <td>[0, 0]</td>\n",
              "      <td>THIS HANDGUN IS ONE THAT NO ONE MAKES A REGULA...</td>\n",
              "      <td>5.0</td>\n",
              "      <td>GOOD FIT FOR A TAURUS 9MM THAT THERE ARE NO HO...</td>\n",
              "      <td>1301961600</td>\n",
              "      <td>04 5, 2011</td>\n",
              "      <td>GOOD FIT FOR A TAURUS 9MM THAT THERE ARE NO HO...</td>\n",
              "      <td>good fit for a taurus mm that there are no hol...</td>\n",
              "      <td>0</td>\n",
              "    </tr>\n",
              "  </tbody>\n",
              "</table>\n",
              "</div>\n",
              "    <div class=\"colab-df-buttons\">\n",
              "\n",
              "  <div class=\"colab-df-container\">\n",
              "    <button class=\"colab-df-convert\" onclick=\"convertToInteractive('df-c92443c1-bc44-45ff-b5ee-d22fdd227c08')\"\n",
              "            title=\"Convert this dataframe to an interactive table.\"\n",
              "            style=\"display:none;\">\n",
              "\n",
              "  <svg xmlns=\"http://www.w3.org/2000/svg\" height=\"24px\" viewBox=\"0 -960 960 960\">\n",
              "    <path d=\"M120-120v-720h720v720H120Zm60-500h600v-160H180v160Zm220 220h160v-160H400v160Zm0 220h160v-160H400v160ZM180-400h160v-160H180v160Zm440 0h160v-160H620v160ZM180-180h160v-160H180v160Zm440 0h160v-160H620v160Z\"/>\n",
              "  </svg>\n",
              "    </button>\n",
              "\n",
              "  <style>\n",
              "    .colab-df-container {\n",
              "      display:flex;\n",
              "      gap: 12px;\n",
              "    }\n",
              "\n",
              "    .colab-df-convert {\n",
              "      background-color: #E8F0FE;\n",
              "      border: none;\n",
              "      border-radius: 50%;\n",
              "      cursor: pointer;\n",
              "      display: none;\n",
              "      fill: #1967D2;\n",
              "      height: 32px;\n",
              "      padding: 0 0 0 0;\n",
              "      width: 32px;\n",
              "    }\n",
              "\n",
              "    .colab-df-convert:hover {\n",
              "      background-color: #E2EBFA;\n",
              "      box-shadow: 0px 1px 2px rgba(60, 64, 67, 0.3), 0px 1px 3px 1px rgba(60, 64, 67, 0.15);\n",
              "      fill: #174EA6;\n",
              "    }\n",
              "\n",
              "    .colab-df-buttons div {\n",
              "      margin-bottom: 4px;\n",
              "    }\n",
              "\n",
              "    [theme=dark] .colab-df-convert {\n",
              "      background-color: #3B4455;\n",
              "      fill: #D2E3FC;\n",
              "    }\n",
              "\n",
              "    [theme=dark] .colab-df-convert:hover {\n",
              "      background-color: #434B5C;\n",
              "      box-shadow: 0px 1px 3px 1px rgba(0, 0, 0, 0.15);\n",
              "      filter: drop-shadow(0px 1px 2px rgba(0, 0, 0, 0.3));\n",
              "      fill: #FFFFFF;\n",
              "    }\n",
              "  </style>\n",
              "\n",
              "    <script>\n",
              "      const buttonEl =\n",
              "        document.querySelector('#df-c92443c1-bc44-45ff-b5ee-d22fdd227c08 button.colab-df-convert');\n",
              "      buttonEl.style.display =\n",
              "        google.colab.kernel.accessAllowed ? 'block' : 'none';\n",
              "\n",
              "      async function convertToInteractive(key) {\n",
              "        const element = document.querySelector('#df-c92443c1-bc44-45ff-b5ee-d22fdd227c08');\n",
              "        const dataTable =\n",
              "          await google.colab.kernel.invokeFunction('convertToInteractive',\n",
              "                                                    [key], {});\n",
              "        if (!dataTable) return;\n",
              "\n",
              "        const docLinkHtml = 'Like what you see? Visit the ' +\n",
              "          '<a target=\"_blank\" href=https://colab.research.google.com/notebooks/data_table.ipynb>data table notebook</a>'\n",
              "          + ' to learn more about interactive tables.';\n",
              "        element.innerHTML = '';\n",
              "        dataTable['output_type'] = 'display_data';\n",
              "        await google.colab.output.renderOutput(dataTable, element);\n",
              "        const docLink = document.createElement('div');\n",
              "        docLink.innerHTML = docLinkHtml;\n",
              "        element.appendChild(docLink);\n",
              "      }\n",
              "    </script>\n",
              "  </div>\n",
              "\n",
              "\n",
              "<div id=\"df-63846812-6687-41e4-9e19-5b7974eb785a\">\n",
              "  <button class=\"colab-df-quickchart\" onclick=\"quickchart('df-63846812-6687-41e4-9e19-5b7974eb785a')\"\n",
              "            title=\"Suggest charts\"\n",
              "            style=\"display:none;\">\n",
              "\n",
              "<svg xmlns=\"http://www.w3.org/2000/svg\" height=\"24px\"viewBox=\"0 0 24 24\"\n",
              "     width=\"24px\">\n",
              "    <g>\n",
              "        <path d=\"M19 3H5c-1.1 0-2 .9-2 2v14c0 1.1.9 2 2 2h14c1.1 0 2-.9 2-2V5c0-1.1-.9-2-2-2zM9 17H7v-7h2v7zm4 0h-2V7h2v10zm4 0h-2v-4h2v4z\"/>\n",
              "    </g>\n",
              "</svg>\n",
              "  </button>\n",
              "\n",
              "<style>\n",
              "  .colab-df-quickchart {\n",
              "      --bg-color: #E8F0FE;\n",
              "      --fill-color: #1967D2;\n",
              "      --hover-bg-color: #E2EBFA;\n",
              "      --hover-fill-color: #174EA6;\n",
              "      --disabled-fill-color: #AAA;\n",
              "      --disabled-bg-color: #DDD;\n",
              "  }\n",
              "\n",
              "  [theme=dark] .colab-df-quickchart {\n",
              "      --bg-color: #3B4455;\n",
              "      --fill-color: #D2E3FC;\n",
              "      --hover-bg-color: #434B5C;\n",
              "      --hover-fill-color: #FFFFFF;\n",
              "      --disabled-bg-color: #3B4455;\n",
              "      --disabled-fill-color: #666;\n",
              "  }\n",
              "\n",
              "  .colab-df-quickchart {\n",
              "    background-color: var(--bg-color);\n",
              "    border: none;\n",
              "    border-radius: 50%;\n",
              "    cursor: pointer;\n",
              "    display: none;\n",
              "    fill: var(--fill-color);\n",
              "    height: 32px;\n",
              "    padding: 0;\n",
              "    width: 32px;\n",
              "  }\n",
              "\n",
              "  .colab-df-quickchart:hover {\n",
              "    background-color: var(--hover-bg-color);\n",
              "    box-shadow: 0 1px 2px rgba(60, 64, 67, 0.3), 0 1px 3px 1px rgba(60, 64, 67, 0.15);\n",
              "    fill: var(--button-hover-fill-color);\n",
              "  }\n",
              "\n",
              "  .colab-df-quickchart-complete:disabled,\n",
              "  .colab-df-quickchart-complete:disabled:hover {\n",
              "    background-color: var(--disabled-bg-color);\n",
              "    fill: var(--disabled-fill-color);\n",
              "    box-shadow: none;\n",
              "  }\n",
              "\n",
              "  .colab-df-spinner {\n",
              "    border: 2px solid var(--fill-color);\n",
              "    border-color: transparent;\n",
              "    border-bottom-color: var(--fill-color);\n",
              "    animation:\n",
              "      spin 1s steps(1) infinite;\n",
              "  }\n",
              "\n",
              "  @keyframes spin {\n",
              "    0% {\n",
              "      border-color: transparent;\n",
              "      border-bottom-color: var(--fill-color);\n",
              "      border-left-color: var(--fill-color);\n",
              "    }\n",
              "    20% {\n",
              "      border-color: transparent;\n",
              "      border-left-color: var(--fill-color);\n",
              "      border-top-color: var(--fill-color);\n",
              "    }\n",
              "    30% {\n",
              "      border-color: transparent;\n",
              "      border-left-color: var(--fill-color);\n",
              "      border-top-color: var(--fill-color);\n",
              "      border-right-color: var(--fill-color);\n",
              "    }\n",
              "    40% {\n",
              "      border-color: transparent;\n",
              "      border-right-color: var(--fill-color);\n",
              "      border-top-color: var(--fill-color);\n",
              "    }\n",
              "    60% {\n",
              "      border-color: transparent;\n",
              "      border-right-color: var(--fill-color);\n",
              "    }\n",
              "    80% {\n",
              "      border-color: transparent;\n",
              "      border-right-color: var(--fill-color);\n",
              "      border-bottom-color: var(--fill-color);\n",
              "    }\n",
              "    90% {\n",
              "      border-color: transparent;\n",
              "      border-bottom-color: var(--fill-color);\n",
              "    }\n",
              "  }\n",
              "</style>\n",
              "\n",
              "  <script>\n",
              "    async function quickchart(key) {\n",
              "      const quickchartButtonEl =\n",
              "        document.querySelector('#' + key + ' button');\n",
              "      quickchartButtonEl.disabled = true;  // To prevent multiple clicks.\n",
              "      quickchartButtonEl.classList.add('colab-df-spinner');\n",
              "      try {\n",
              "        const charts = await google.colab.kernel.invokeFunction(\n",
              "            'suggestCharts', [key], {});\n",
              "      } catch (error) {\n",
              "        console.error('Error during call to suggestCharts:', error);\n",
              "      }\n",
              "      quickchartButtonEl.classList.remove('colab-df-spinner');\n",
              "      quickchartButtonEl.classList.add('colab-df-quickchart-complete');\n",
              "    }\n",
              "    (() => {\n",
              "      let quickchartButtonEl =\n",
              "        document.querySelector('#df-63846812-6687-41e4-9e19-5b7974eb785a button');\n",
              "      quickchartButtonEl.style.display =\n",
              "        google.colab.kernel.accessAllowed ? 'block' : 'none';\n",
              "    })();\n",
              "  </script>\n",
              "</div>\n",
              "\n",
              "    </div>\n",
              "  </div>\n"
            ],
            "application/vnd.google.colaboratory.intrinsic+json": {
              "type": "dataframe",
              "variable_name": "df_processed"
            }
          },
          "metadata": {},
          "execution_count": 18
        }
      ],
      "source": [
        "# taking a look at our processed data\n",
        "df_processed.head(2)"
      ]
    },
    {
      "cell_type": "markdown",
      "metadata": {
        "id": "RqP4ofueBl6k"
      },
      "source": [
        "## EDA"
      ]
    },
    {
      "cell_type": "markdown",
      "metadata": {
        "id": "WQmM5S24facX"
      },
      "source": [
        "Now with our data processed correctly, we can do some explatory data analysis to more deeply understand what our data captures"
      ]
    },
    {
      "cell_type": "code",
      "execution_count": null,
      "metadata": {
        "id": "cmYgC0sZCnOp"
      },
      "outputs": [],
      "source": [
        "# creating additional columns we will visualize below:\n",
        "    # text_length: the number of characters in the cleaned review\n",
        "    # word_count: the number of words in the cleaned review\n",
        "    # helpful_ratio: understanding how helpful a particular review was to other shoppers\n",
        "    # reveiw_datetime: creating a pandas datetime col of when the review happened\n",
        "    # review_year: getting the year of when the review happened from review_datetime\n",
        "df_processed['text_length'] = df_processed['cleaned_text'].str.len()\n",
        "df_processed['word_count'] = df_processed['cleaned_text'].str.split().str.len()\n",
        "df_processed['helpful_ratio'] = df_processed['helpful'].apply(lambda x: x[0] / x[1] if x[1] > 0 else 0)\n",
        "df_processed['review_datetime'] = pd.to_datetime(df_processed['reviewTime'])\n",
        "df_processed['review_year'] = df_processed['review_datetime'].dt.year"
      ]
    },
    {
      "cell_type": "code",
      "execution_count": null,
      "metadata": {
        "colab": {
          "base_uri": "https://localhost:8080/"
        },
        "id": "QLlrVg5kC2_P",
        "outputId": "3b031f67-4525-4b12-d92b-190773bdd6d8"
      },
      "outputs": [
        {
          "name": "stdout",
          "output_type": "stream",
          "text": [
            "            count       mean        std  min   25%   50%   75%     max\n",
            "overall                                                               \n",
            "1.0       56975.0  75.756806  77.491676  1.0  32.0  52.0  91.0  3118.0\n",
            "2.0       38567.0  81.921928  84.753638  2.0  34.0  56.0  98.0  3187.0\n",
            "3.0       63724.0  80.636730  88.333822  1.0  33.0  53.0  94.0  2349.0\n",
            "4.0      147169.0  79.364098  92.873175  2.0  31.0  50.0  91.0  3771.0\n",
            "5.0      442356.0  64.596370  76.990372  1.0  27.0  40.0  72.0  4910.0\n",
            " \n",
            "overall\n",
            "1.0    0.362550\n",
            "2.0    0.321379\n",
            "3.0    0.296465\n",
            "4.0    0.301213\n",
            "5.0    0.286365\n",
            "Name: helpful_ratio, dtype: float64\n"
          ]
        }
      ],
      "source": [
        "# here is a table showcasing the distribution of the number of words in the cleaned reviews\n",
        "# and how helpful a particular review was to other shoppers\n",
        "print(df_processed.groupby('overall')['word_count'].describe())\n",
        "print(' ')\n",
        "print(df_processed.groupby('overall')['helpful_ratio'].mean())"
      ]
    },
    {
      "cell_type": "code",
      "execution_count": null,
      "metadata": {
        "colab": {
          "base_uri": "https://localhost:8080/",
          "height": 572
        },
        "id": "XUcNOPuyEFhZ",
        "outputId": "3253aeb6-efcc-4fa9-9e81-f93efa68f270"
      },
      "outputs": [
        {
          "data": {
            "image/png": "[encoded data removed]",
            "text/plain": [
              "<Figure size 1000x600 with 1 Axes>"
            ]
          },
          "metadata": {},
          "output_type": "display_data"
        }
      ],
      "source": [
        "# bar chart of the distribution of ratings in our dataset\n",
        "plt.figure(figsize = (10, 6))\n",
        "df_processed['overall'].value_counts().sort_index().plot(kind = 'bar')\n",
        "plt.title('Rating Distributions')\n",
        "plt.xlabel('Rating')\n",
        "plt.ylabel('Count')\n",
        "plt.show()"
      ]
    },
    {
      "cell_type": "code",
      "execution_count": null,
      "metadata": {
        "colab": {
          "base_uri": "https://localhost:8080/",
          "height": 564
        },
        "id": "JkFHY9Y5Eoxo",
        "outputId": "e91047a2-4ca2-46b4-c49d-bfc5d8e7f8b5"
      },
      "outputs": [
        {
          "data": {
            "image/png": "[encoded data removed]",
            "text/plain": [
              "<Figure size 1200x600 with 1 Axes>"
            ]
          },
          "metadata": {},
          "output_type": "display_data"
        }
      ],
      "source": [
        "# plot reviews over time as a line chart\n",
        "plt.figure(figsize = (12, 6))\n",
        "df_processed['review_year'].value_counts().sort_index().plot(kind = 'line')\n",
        "plt.title('Number of Reviews by Year')\n",
        "plt.xlabel('Year')\n",
        "plt.ylabel('Number of Non Cumulative Reviews')\n",
        "plt.show()"
      ]
    },
    {
      "cell_type": "code",
      "execution_count": null,
      "metadata": {
        "colab": {
          "base_uri": "https://localhost:8080/",
          "height": 495
        },
        "id": "T58gJZaBEsHJ",
        "outputId": "e6aedf50-1b77-4ac9-93c8-89e4d633ecac"
      },
      "outputs": [
        {
          "data": {
            "text/plain": [
              "<Figure size 1000x600 with 0 Axes>"
            ]
          },
          "metadata": {},
          "output_type": "display_data"
        },
        {
          "data": {
            "image/png": "[encoded data removed]",
            "text/plain": [
              "<Figure size 640x480 with 1 Axes>"
            ]
          },
          "metadata": {},
          "output_type": "display_data"
        }
      ],
      "source": [
        "# creating a boxplot of the number of words on the rating the customer left\n",
        "# there are a lot of large outliers where customers left very long reviews!\n",
        "# we will filter out very long reviews later on in the notebook as this will\n",
        "# take considerable computing resources for our model to train on\n",
        "plt.figure(figsize = (10, 6))\n",
        "df_processed.boxplot(column = 'word_count', by = 'overall')\n",
        "plt.title('Review Length by Rating')\n",
        "plt.xlabel('Rating')\n",
        "plt.ylabel('Word Count')\n",
        "plt.show()"
      ]
    },
    {
      "cell_type": "markdown",
      "metadata": {
        "id": "4pq9N8BJjInO"
      },
      "source": [
        "## Model building"
      ]
    },
    {
      "cell_type": "code",
      "execution_count": 20,
      "metadata": {
        "id": "tWDSHhB2G06Z"
      },
      "outputs": [],
      "source": [
        "# to begin, we will start with defining a few helper classes that will be passed to our IntentClassifier.\n",
        "# starting with early stopping. This class will automatically stop our training if the validation loss\n",
        "# in a particular training epoch gets worse than the previous epoch.\n",
        "# this will hopefully keep our model from getting overfit\n",
        "class EarlyStopping:\n",
        "    \"\"\"\n",
        "    this class will automatically stop training if the validation loss is worse than the prior epoch\n",
        "\n",
        "    parameters:\n",
        "        - patience: the number of epochs to wait before stopping\n",
        "        - verbose: prints messages about improvements in the validation loss\n",
        "        - delta: min change in loss to qualify as an improvement\n",
        "        - path: path to save the checkpoint\n",
        "        - trace_func: prints a message\n",
        "    \"\"\"\n",
        "    # initializing the parameters\n",
        "    def __init__(self, patience = 1, verbose = False, delta = 0, path = '/content/drive/MyDrive/DTSA 5511 - Intro to Deep Learning/checkpoint.pt', trace_func = print):\n",
        "        self.patience = patience\n",
        "        self.verbose = verbose\n",
        "        self.counter = 0\n",
        "        self.best_score = None\n",
        "        self.early_stop = False\n",
        "        self.val_loss_min = np.Inf\n",
        "        self.delta = delta\n",
        "        self.path = path\n",
        "        self.trace_func = trace_func\n",
        "\n",
        "    # main method\n",
        "    def __call__(self, val_loss, model):\n",
        "        # converting the loss score to a negative number\n",
        "        score = -val_loss\n",
        "\n",
        "        # first epoch\n",
        "        if self.best_score is None:\n",
        "            self.best_score = score\n",
        "            self.save_checkpoint(val_loss, model)\n",
        "        # save epoch with lowest delta\n",
        "        # initialize early stopping counter\n",
        "        elif score < self.best_score + self.delta:\n",
        "            self.counter += 1\n",
        "            self.trace_func(f'EarlyStopping counter: {self.counter} out of {self.patience}')\n",
        "            if self.counter >= self.patience:\n",
        "                self.early_stop = True\n",
        "        # if counter reaches patience, set early_stop\n",
        "        # if score has improved, save the model and update the best score\n",
        "        else:\n",
        "            self.best_score = score\n",
        "            self.save_checkpoint(val_loss, model)\n",
        "            self.counter = 0\n",
        "\n",
        "    # function to save the model state and update the validation loss\n",
        "    def save_checkpoint(self, val_loss, model):\n",
        "        '''Saves model when validation loss decrease.'''\n",
        "        if self.verbose:\n",
        "            self.trace_func(f'Validation loss decreased ({self.val_loss_min:.6f} --> {val_loss:.6f}). Saving model ...')\n",
        "        torch.save(model.state_dict(), self.path)\n",
        "        self.val_loss_min = val_loss"
      ]
    },
    {
      "cell_type": "code",
      "execution_count": 21,
      "metadata": {
        "id": "9GLybPrkhlEE"
      },
      "outputs": [],
      "source": [
        "# now we will create the BiLSTM framework\n",
        "# this IntentClassifier class will convert the input text into word embeddings\n",
        "# pass the embeddings into the bi-directional LSTM\n",
        "# outputs the intent class scores\n",
        "class IntentClassifier(nn.Module):\n",
        "    def __init__(self, vocab_size, embedding_dim, hidden_dim, n_layers, n_classes, dropout=0.3):\n",
        "        \"\"\"\n",
        "        builds and initializes the BiLSTM model\n",
        "\n",
        "        args:\n",
        "            - vocab_size: size of the vocabulary\n",
        "            - embedding_dim: size of each word embedding\n",
        "            - hidden_dim: number of hidden units\n",
        "            - n_layers: number of LSTM layers\n",
        "            - n_classes: number of intent classes (4 in our case)\n",
        "            - dropout: dropout rate to prevent overfitting\n",
        "        \"\"\"\n",
        "        super().__init__()\n",
        "\n",
        "        # creates the word embeddings from word indices\n",
        "        self.embedding = nn.Embedding(vocab_size, embedding_dim, padding_idx = 0)\n",
        "\n",
        "        # creating the bi-directional LSTM with the following dimensions:\n",
        "            # embedding_dim: the size of each word embedding\n",
        "            # hidden_dim: the nuber of hidden units\n",
        "            # n_layers: the number of LSTM layers\n",
        "            # bidirectinoal: makes the LSTM bi-directiona;\n",
        "            # batch_first: ensures the correct shape\n",
        "            # dropout: prevents overfitting\n",
        "        self.lstm = nn.LSTM(\n",
        "            embedding_dim,\n",
        "            hidden_dim,\n",
        "            n_layers,\n",
        "            bidirectional=True,\n",
        "            batch_first=True,\n",
        "            dropout=dropout if n_layers > 1 else 0\n",
        "        )\n",
        "\n",
        "        # creating a fully connected layer with our bi-directional framework\n",
        "        self.attention = nn.Linear(hidden_dim * 2, 1)\n",
        "\n",
        "        # creating a fully connected output layer\n",
        "        self.fc = nn.Linear(hidden_dim * 2, n_classes)\n",
        "\n",
        "        # randomly dropping neurons to prevent overfitting\n",
        "        self.dropout = nn.Dropout(dropout)\n",
        "\n",
        "    def attention_net(self, lstm_output, final_hidden):\n",
        "        \"\"\"\n",
        "        implements a attention mechanism to focus on relevant word\n",
        "\n",
        "        args:\n",
        "            - lstm_output: output of the LSTM\n",
        "            - final_hidden: outputting the final state\n",
        "\n",
        "        returns:\n",
        "            - attention weighted output\n",
        "        \"\"\"\n",
        "\n",
        "        # fully connected layer pass through\n",
        "        attention_weights = torch.tanh(self.attention(lstm_output))\n",
        "\n",
        "        # softmax to convert scores to probabilities\n",
        "        attention_weights = F.softmax(attention_weights, dim=1)\n",
        "\n",
        "        # computes weighted sum of LSTM outputs\n",
        "        attention_output = torch.bmm(lstm_output.transpose(1, 2), attention_weights)\n",
        "\n",
        "        # final vector\n",
        "        return attention_output.squeeze(2)\n",
        "\n",
        "    def forward(self, text, text_lengths):\n",
        "        \"\"\"\n",
        "        forward pass\n",
        "\n",
        "        args:\n",
        "            - text: input text tensor\n",
        "            - text_lengths: length of each sequence\n",
        "\n",
        "        returns:\n",
        "            intent class\n",
        "        \"\"\"\n",
        "\n",
        "        # converts indices into embeddings\n",
        "        embedded = self.dropout(self.embedding(text))\n",
        "\n",
        "        # converts input into packed sequence\n",
        "        packed_embedded = nn.utils.rnn.pack_padded_sequence(\n",
        "            embedded, text_lengths.cpu(), batch_first = True, enforce_sorted = False\n",
        "        )\n",
        "\n",
        "        # run packed sequence through bi-directional LSTM\n",
        "        packed_output, (hidden, cell) = self.lstm(packed_embedded)\n",
        "\n",
        "        # converts LSTM output back to tensor\n",
        "        output, _ = nn.utils.rnn.pad_packed_sequence(packed_output, batch_first = True)\n",
        "\n",
        "        # attention weighted output\n",
        "        attention_output = self.attention_net(output, hidden)\n",
        "\n",
        "        # passing through fully connected layer\n",
        "        predictions = self.fc(attention_output)\n",
        "\n",
        "        return predictions"
      ]
    },
    {
      "cell_type": "code",
      "execution_count": 126,
      "metadata": {
        "id": "oCxd_M4KGoHw"
      },
      "outputs": [],
      "source": [
        "# setting our model hyperparameters\n",
        "vocab_size = len(word2idx)\n",
        "embedding_dim = 100\n",
        "hidden_dim = 128\n",
        "n_layers = 2\n",
        "n_classes = 4\n",
        "dropout = 0.3\n",
        "\n",
        "# creating the model instnace with IntentClassifier\n",
        "model = IntentClassifier(\n",
        "    vocab_size=vocab_size,\n",
        "    embedding_dim=embedding_dim,\n",
        "    hidden_dim=hidden_dim,\n",
        "    n_layers=n_layers,\n",
        "    n_classes=n_classes,\n",
        "    dropout=dropout\n",
        ")"
      ]
    },
    {
      "cell_type": "code",
      "execution_count": 127,
      "metadata": {
        "id": "gCk1ve9FHTTJ"
      },
      "outputs": [],
      "source": [
        "# this is the main function that will train our BiLSTM model\n",
        "# it will also track the acuracy and loss and save the best model with early stopping considered\n",
        "# and hopefully will avoid overfitting\n",
        "def train_model(model, train_loader, val_loader, criterion, optimizer, n_epochs, device, patience = 1):\n",
        "    \"\"\"\n",
        "    train the BiLSTM model\n",
        "\n",
        "    args:\n",
        "        - model: BiLSTM model\n",
        "        - train_loader: training data loader\n",
        "        - val_loader: validation data loader\n",
        "        - criterion: loss function\n",
        "        - optimizer: optimizer\n",
        "        - n_epochs: number of epochs to train\n",
        "        - device: gpu or nah\n",
        "        - patience: early stopping patience\n",
        "    \"\"\"\n",
        "    # ensuring we are using GPU\n",
        "    model = model.to(device)\n",
        "\n",
        "    # stores loss and accuracy for each epoch\n",
        "    history = {\n",
        "        'train_loss': [],\n",
        "        'train_acc': [],\n",
        "        'val_loss': [],\n",
        "        'val_acc': [],\n",
        "    }\n",
        "\n",
        "    # use early stopping to prevent overfitting\n",
        "    early_stopping = EarlyStopping(patience = patience, verbose = True)\n",
        "\n",
        "    # storing the best validation accuracy\n",
        "    best_val_acc = 0\n",
        "\n",
        "    for epoch in range(n_epochs):\n",
        "        start_time = time.time()\n",
        "\n",
        "        # training and saving:\n",
        "            # train_loss: batch loss\n",
        "            # train_predictions: the model predictions\n",
        "            # train_labels: ground truth labels\n",
        "        model.train()\n",
        "        train_losses = []\n",
        "        train_predictions = []\n",
        "        train_labels = []\n",
        "\n",
        "        # implementing a fancy progress bar\n",
        "        train_pbar = tqdm(train_loader, desc=f'Epoch {epoch+1} / {n_epochs} [Train]')\n",
        "\n",
        "        # looping through each batch\n",
        "        for batch in train_pbar:\n",
        "            text, labels, lengths = batch\n",
        "            text = text.to(device)\n",
        "            labels = labels.to(device)\n",
        "            lengths = lengths.to(device)\n",
        "\n",
        "            # running forward pass to get predictions and computing loss\n",
        "            optimizer.zero_grad()\n",
        "            outputs = model(text, lengths)\n",
        "            loss = criterion(outputs, labels)\n",
        "\n",
        "            # running backwards pass to compute gradients\n",
        "            loss.backward()\n",
        "            torch.nn.utils.clip_grad_norm_(model.parameters(), max_norm = 1.0)\n",
        "            optimizer.step()\n",
        "\n",
        "            # store the batch loss and converts predictions from tensor to array\n",
        "            train_losses.append(loss.item())\n",
        "            _, predicted = torch.max(outputs, 1)\n",
        "            train_predictions.extend(predicted.cpu().numpy())\n",
        "            train_labels.extend(labels.cpu().numpy())\n",
        "\n",
        "            # updating the progress bar\n",
        "            train_pbar.set_postfix({'loss': np.mean(train_losses)})\n",
        "\n",
        "        # computes training loss and accuracy\n",
        "        train_loss = np.mean(train_losses)\n",
        "        train_acc = np.mean(np.array(train_predictions) == np.array(train_labels))\n",
        "\n",
        "        # to capture validation loss and prediction\n",
        "        model.eval()\n",
        "        val_losses = []\n",
        "        val_predictions = []\n",
        "        val_labels = []\n",
        "\n",
        "        with torch.no_grad():\n",
        "            # display progress bar\n",
        "            val_pbar = tqdm(val_loader, desc=f'Epoch {epoch+1} / {n_epochs} [Val]')\n",
        "\n",
        "            # loping through validation data\n",
        "            for batch in val_pbar:\n",
        "                text, labels, lengths = batch\n",
        "                text = text.to(device)\n",
        "                labels = labels.to(device)\n",
        "                lengths = lengths.to(device)\n",
        "\n",
        "                # run forward pass and computes loss\n",
        "                outputs = model(text, lengths)\n",
        "                loss = criterion(outputs, labels)\n",
        "\n",
        "                # store predictions and losses\n",
        "                val_losses.append(loss.item())\n",
        "                _, predicted = torch.max(outputs, 1)\n",
        "                val_predictions.extend(predicted.cpu().numpy())\n",
        "                val_labels.extend(labels.cpu().numpy())\n",
        "\n",
        "                # update progress bar\n",
        "                val_pbar.set_postfix({'loss': np.mean(val_losses)})\n",
        "\n",
        "        # calculate average validation loss and accuracy\n",
        "        val_loss = np.mean(val_losses)\n",
        "        val_acc = np.mean(np.array(val_predictions) == np.array(val_labels))\n",
        "\n",
        "        # saves model state if validation accuracy is better than last epoch\n",
        "        if val_acc > best_val_acc:\n",
        "            best_val_acc = val_acc\n",
        "            torch.save({\n",
        "                'epoch': epoch,\n",
        "                'model_state_dict': model.state_dict(),\n",
        "                'optimizer_state_dict': optimizer.state_dict(),\n",
        "                'val_acc': val_acc,\n",
        "                'val_loss': val_loss,\n",
        "            }, 'best_model.pth')\n",
        "\n",
        "        # saving training and validation loss\n",
        "        history['train_loss'].append(train_loss)\n",
        "        history['train_acc'].append(train_acc)\n",
        "        history['val_loss'].append(val_loss)\n",
        "        history['val_acc'].append(val_acc)\n",
        "\n",
        "        # printing the epoch time and training/validation loss metrics for the epoch\n",
        "        time_elapsed = time.time() - start_time\n",
        "        print(f'\\nEpoch {epoch+1} / {n_epochs} completed in {time_elapsed:.0f}s')\n",
        "        print(f'Train Loss: {train_loss:.4f} | Train Acc: {train_acc:.4f}')\n",
        "        print(f'Val Loss: {val_loss:.4f} | Val Acc: {val_acc:.4f}')\n",
        "\n",
        "        # pritn classification report\n",
        "        intent_labels = ['sizing', 'tech_specs', 'recommendations', 'other']\n",
        "        print('\\nValidation Classification Report:')\n",
        "        print(classification_report(val_labels, val_predictions, target_names=intent_labels))\n",
        "        print('-' * 60)\n",
        "\n",
        "        # early stopping catch\n",
        "        early_stopping(val_loss, model)\n",
        "        if early_stopping.early_stop:\n",
        "            print(\"Early stopping triggered\")\n",
        "            break\n",
        "\n",
        "    return history"
      ]
    },
    {
      "cell_type": "code",
      "execution_count": 128,
      "metadata": {
        "id": "jDy2e4aBLBnu"
      },
      "outputs": [],
      "source": [
        "# GPU or naw\n",
        "device = torch.device('cuda' if torch.cuda.is_available() else 'cpu')\n",
        "\n",
        "# using GPU\n",
        "model = model.to(device)\n",
        "\n",
        "# defining CrossEntropy loss function (useful for multi-classification problems)\n",
        "criterion = nn.CrossEntropyLoss().to(device)\n",
        "\n",
        "# using Adam optimizer\n",
        "optimizer = torch.optim.Adam(model.parameters())"
      ]
    },
    {
      "cell_type": "code",
      "execution_count": 129,
      "metadata": {
        "colab": {
          "base_uri": "https://localhost:8080/"
        },
        "id": "Toub80WLNOJu",
        "outputId": "1f68f8f2-67f0-4d19-938b-fbf7eff0e4ff"
      },
      "outputs": [
        {
          "metadata": {
            "tags": null
          },
          "name": "stderr",
          "output_type": "stream",
          "text": [
            "Epoch 1 / 10 [Train]: 100%|██████████| 18720/18720 [09:41<00:00, 32.19it/s, loss=0.225]\n",
            "Epoch 1 / 10 [Val]: 100%|██████████| 4680/4680 [00:55<00:00, 83.91it/s, loss=0.118]\n"
          ]
        },
        {
          "metadata": {
            "tags": null
          },
          "name": "stdout",
          "output_type": "stream",
          "text": [
            "\n",
            "Epoch 1 / 10 completed in 638s\n",
            "Train Loss: 0.2245 | Train Acc: 0.9285\n",
            "Val Loss: 0.1184 | Val Acc: 0.9679\n",
            "\n",
            "Validation Classification Report:\n",
            "                 precision    recall  f1-score   support\n",
            "\n",
            "         sizing       1.00      0.97      0.99     77173\n",
            "     tech_specs       0.96      0.96      0.96     24641\n",
            "recommendations       0.93      0.93      0.93     21260\n",
            "          other       0.92      0.98      0.95     26685\n",
            "\n",
            "       accuracy                           0.97    149759\n",
            "      macro avg       0.95      0.96      0.96    149759\n",
            "   weighted avg       0.97      0.97      0.97    149759\n",
            "\n",
            "------------------------------------------------------------\n",
            "Validation loss decreased (inf --> 0.118365). Saving model ...\n"
          ]
        },
        {
          "metadata": {
            "tags": null
          },
          "name": "stderr",
          "output_type": "stream",
          "text": [
            "Epoch 2 / 10 [Train]: 100%|██████████| 18720/18720 [09:39<00:00, 32.32it/s, loss=0.116]\n",
            "Epoch 2 / 10 [Val]: 100%|██████████| 4680/4680 [00:55<00:00, 84.45it/s, loss=0.104]\n"
          ]
        },
        {
          "metadata": {
            "tags": null
          },
          "name": "stdout",
          "output_type": "stream",
          "text": [
            "\n",
            "Epoch 2 / 10 completed in 635s\n",
            "Train Loss: 0.1163 | Train Acc: 0.9675\n",
            "Val Loss: 0.1043 | Val Acc: 0.9708\n",
            "\n",
            "Validation Classification Report:\n",
            "                 precision    recall  f1-score   support\n",
            "\n",
            "         sizing       1.00      0.98      0.99     77173\n",
            "     tech_specs       0.97      0.97      0.97     24641\n",
            "recommendations       0.93      0.95      0.94     21260\n",
            "          other       0.93      0.98      0.95     26685\n",
            "\n",
            "       accuracy                           0.97    149759\n",
            "      macro avg       0.96      0.97      0.96    149759\n",
            "   weighted avg       0.97      0.97      0.97    149759\n",
            "\n",
            "------------------------------------------------------------\n",
            "Validation loss decreased (0.118365 --> 0.104289). Saving model ...\n"
          ]
        },
        {
          "metadata": {
            "tags": null
          },
          "name": "stderr",
          "output_type": "stream",
          "text": [
            "Epoch 3 / 10 [Train]: 100%|██████████| 18720/18720 [09:37<00:00, 32.42it/s, loss=0.105]\n",
            "Epoch 3 / 10 [Val]: 100%|██████████| 4680/4680 [00:56<00:00, 83.53it/s, loss=0.102]\n"
          ]
        },
        {
          "metadata": {
            "tags": null
          },
          "name": "stdout",
          "output_type": "stream",
          "text": [
            "\n",
            "Epoch 3 / 10 completed in 634s\n",
            "Train Loss: 0.1052 | Train Acc: 0.9706\n",
            "Val Loss: 0.1020 | Val Acc: 0.9715\n",
            "\n",
            "Validation Classification Report:\n",
            "                 precision    recall  f1-score   support\n",
            "\n",
            "         sizing       1.00      0.98      0.99     77173\n",
            "     tech_specs       0.97      0.97      0.97     24641\n",
            "recommendations       0.93      0.95      0.94     21260\n",
            "          other       0.93      0.98      0.95     26685\n",
            "\n",
            "       accuracy                           0.97    149759\n",
            "      macro avg       0.96      0.97      0.96    149759\n",
            "   weighted avg       0.97      0.97      0.97    149759\n",
            "\n",
            "------------------------------------------------------------\n",
            "Validation loss decreased (0.104289 --> 0.102011). Saving model ...\n"
          ]
        },
        {
          "output_type": "stream",
          "name": "stderr",
          "text": [
            "Epoch 4 / 10 [Train]: 100%|██████████| 18720/18720 [09:55<00:00, 31.43it/s, loss=0.1]\n",
            "Epoch 4 / 10 [Val]: 100%|██████████| 4680/4680 [00:59<00:00, 78.30it/s, loss=0.101]\n"
          ]
        },
        {
          "output_type": "stream",
          "name": "stdout",
          "text": [
            "\n",
            "Epoch 4 / 10 completed in 656s\n",
            "Train Loss: 0.1003 | Train Acc: 0.9717\n",
            "Val Loss: 0.1012 | Val Acc: 0.9719\n",
            "\n",
            "Validation Classification Report:\n",
            "                 precision    recall  f1-score   support\n",
            "\n",
            "         sizing       1.00      0.98      0.99     77173\n",
            "     tech_specs       0.96      0.97      0.97     24641\n",
            "recommendations       0.93      0.95      0.94     21260\n",
            "          other       0.94      0.98      0.96     26685\n",
            "\n",
            "       accuracy                           0.97    149759\n",
            "      macro avg       0.96      0.97      0.96    149759\n",
            "   weighted avg       0.97      0.97      0.97    149759\n",
            "\n",
            "------------------------------------------------------------\n",
            "Validation loss decreased (0.102011 --> 0.101227). Saving model ...\n"
          ]
        },
        {
          "output_type": "stream",
          "name": "stderr",
          "text": [
            "Epoch 5 / 10 [Train]: 100%|██████████| 18720/18720 [10:06<00:00, 30.89it/s, loss=0.0972]\n",
            "Epoch 5 / 10 [Val]: 100%|██████████| 4680/4680 [00:59<00:00, 78.62it/s, loss=0.101]\n"
          ]
        },
        {
          "output_type": "stream",
          "name": "stdout",
          "text": [
            "\n",
            "Epoch 5 / 10 completed in 666s\n",
            "Train Loss: 0.0972 | Train Acc: 0.9724\n",
            "Val Loss: 0.1007 | Val Acc: 0.9720\n",
            "\n",
            "Validation Classification Report:\n",
            "                 precision    recall  f1-score   support\n",
            "\n",
            "         sizing       1.00      0.98      0.99     77173\n",
            "     tech_specs       0.97      0.97      0.97     24641\n",
            "recommendations       0.94      0.95      0.94     21260\n",
            "          other       0.93      0.98      0.96     26685\n",
            "\n",
            "       accuracy                           0.97    149759\n",
            "      macro avg       0.96      0.97      0.96    149759\n",
            "   weighted avg       0.97      0.97      0.97    149759\n",
            "\n",
            "------------------------------------------------------------\n",
            "Validation loss decreased (0.101227 --> 0.100702). Saving model ...\n"
          ]
        },
        {
          "output_type": "stream",
          "name": "stderr",
          "text": [
            "Epoch 6 / 10 [Train]: 100%|██████████| 18720/18720 [09:55<00:00, 31.42it/s, loss=0.0943]\n",
            "Epoch 6 / 10 [Val]: 100%|██████████| 4680/4680 [00:58<00:00, 79.62it/s, loss=0.101]\n"
          ]
        },
        {
          "output_type": "stream",
          "name": "stdout",
          "text": [
            "\n",
            "Epoch 6 / 10 completed in 655s\n",
            "Train Loss: 0.0943 | Train Acc: 0.9731\n",
            "Val Loss: 0.1011 | Val Acc: 0.9722\n",
            "\n",
            "Validation Classification Report:\n",
            "                 precision    recall  f1-score   support\n",
            "\n",
            "         sizing       1.00      0.98      0.99     77173\n",
            "     tech_specs       0.97      0.97      0.97     24641\n",
            "recommendations       0.93      0.95      0.94     21260\n",
            "          other       0.94      0.98      0.96     26685\n",
            "\n",
            "       accuracy                           0.97    149759\n",
            "      macro avg       0.96      0.97      0.96    149759\n",
            "   weighted avg       0.97      0.97      0.97    149759\n",
            "\n",
            "------------------------------------------------------------\n",
            "EarlyStopping counter: 1 out of 1\n",
            "Early stopping triggered\n"
          ]
        }
      ],
      "source": [
        "# running out model framework with all required parameters\n",
        "history = train_model(\n",
        "    model = model,\n",
        "    train_loader = train_loader,\n",
        "    val_loader = val_loader,\n",
        "    criterion = criterion,\n",
        "    optimizer = optimizer,\n",
        "    n_epochs = 10,\n",
        "    device=device\n",
        ")"
      ]
    },
    {
      "cell_type": "markdown",
      "metadata": {
        "id": "lsZtXdgAvJBV"
      },
      "source": [
        "## Saving/loading the best model"
      ]
    },
    {
      "cell_type": "code",
      "execution_count": 131,
      "metadata": {
        "id": "MrSfzrrfiIOK"
      },
      "outputs": [],
      "source": [
        "# after training has completed, we will use this function to save our best model to use at a later time (to avoid having to re-train each time)\n",
        "def save_model(model, optimizer, history, filename = '/content/drive/MyDrive/DTSA 5511 - Intro to Deep Learning/trained_model.pth'):\n",
        "    \"\"\"\n",
        "    save the top trained model along with training history and optimizer\n",
        "\n",
        "    args:\n",
        "        - model: trained PyTorch model\n",
        "        - optimizer: optimizer used for training\n",
        "        - history: training history dictionary\n",
        "        - filename: name of the file\n",
        "    \"\"\"\n",
        "    checkpoint = {\n",
        "        'model_state_dict': model.state_dict(),\n",
        "        'optimizer_state_dict': optimizer.state_dict(),\n",
        "        'history': history,\n",
        "        'model_config': model.config if hasattr(model, 'config') else None\n",
        "    }\n",
        "\n",
        "    torch.save(checkpoint, filename)\n",
        "    print(f\"Model saved to {filename}\")"
      ]
    },
    {
      "cell_type": "code",
      "execution_count": 132,
      "metadata": {
        "id": "f7sCqMw-Foeg",
        "colab": {
          "base_uri": "https://localhost:8080/"
        },
        "outputId": "096a3fa3-bcfc-482c-e730-27a6e0bf1b91"
      },
      "outputs": [
        {
          "output_type": "stream",
          "name": "stdout",
          "text": [
            "Model saved to /content/drive/MyDrive/DTSA 5511 - Intro to Deep Learning/trained_model.pth\n"
          ]
        }
      ],
      "source": [
        "# calling our save_model function to re-use later\n",
        "save_model(model, optimizer, history)"
      ]
    },
    {
      "cell_type": "code",
      "execution_count": 3,
      "metadata": {
        "id": "tp5_93NfFqln"
      },
      "outputs": [],
      "source": [
        "# creating a loading function that will loading the model we had previously saved\n",
        "# with the same parameters we had previously passed\n",
        "def load_intent_classifier(model_path, vocab_size, embedding_dim = 100, hidden_dim = 128,\n",
        "                         n_layers = 2, n_classes = 4, dropout = 0.3):\n",
        "    \"\"\"\n",
        "    load the trained IntentClassifier model\n",
        "\n",
        "    args:\n",
        "        - model_path: save path\n",
        "        - vocab_size: vocab size\n",
        "        - embedding_dim: word embeddings dimensions\n",
        "        - hidden_dim: # of hidden unit\n",
        "        - n_layers: # of LSTM layers\n",
        "        - n_classes: # of intent classes\n",
        "        - dropout: preventing overfitting\n",
        "    \"\"\"\n",
        "    device = torch.device('cuda' if torch.cuda.is_available() else 'cpu')\n",
        "\n",
        "    # init model with same architecture as previously defined\n",
        "    model = IntentClassifier(\n",
        "        vocab_size = vocab_size,\n",
        "        embedding_dim = embedding_dim,\n",
        "        hidden_dim = hidden_dim,\n",
        "        n_layers = n_layers,\n",
        "        n_classes = n_classes,\n",
        "        dropout = dropout\n",
        "    ).to(device)\n",
        "\n",
        "    # loading the correct checkpoint\n",
        "    checkpoint = torch.load(model_path, map_location=device)\n",
        "    model.load_state_dict(checkpoint['model_state_dict'])\n",
        "    model.eval()\n",
        "\n",
        "    return model"
      ]
    },
    {
      "cell_type": "code",
      "execution_count": 22,
      "metadata": {
        "colab": {
          "base_uri": "https://localhost:8080/"
        },
        "id": "aJ1MeoVqQGgD",
        "outputId": "c22ec741-630d-44f3-de84-68b9eb97ac31"
      },
      "outputs": [
        {
          "output_type": "stream",
          "name": "stderr",
          "text": [
            "<ipython-input-3-cc529ccaeb8d>:30: FutureWarning: You are using `torch.load` with `weights_only=False` (the current default value), which uses the default pickle module implicitly. It is possible to construct malicious pickle data which will execute arbitrary code during unpickling (See https://github.com/pytorch/pytorch/blob/main/SECURITY.md#untrusted-models for more details). In a future release, the default value for `weights_only` will be flipped to `True`. This limits the functions that could be executed during unpickling. Arbitrary objects will no longer be allowed to be loaded via this mode unless they are explicitly allowlisted by the user via `torch.serialization.add_safe_globals`. We recommend you start setting `weights_only=True` for any use case where you don't have full control of the loaded file. Please open an issue on GitHub for any issues related to this experimental feature.\n",
            "  checkpoint = torch.load(model_path, map_location=device)\n"
          ]
        }
      ],
      "source": [
        "# calling the load_intent_classifier from above to use for a prediction\n",
        "model = load_intent_classifier(\n",
        "    model_path = '/content/drive/MyDrive/DTSA 5511 - Intro to Deep Learning/trained_model.pth',\n",
        "    vocab_size = len(word2idx)\n",
        ")"
      ]
    },
    {
      "cell_type": "markdown",
      "metadata": {
        "id": "BLU7mMagPGBR"
      },
      "source": [
        "### Testing the model"
      ]
    },
    {
      "cell_type": "markdown",
      "source": [
        "Now with our model saved/loaded, we can use it to predict on a newly unseen text input. Apart from using the accuracy/precision/f1 score, this is a fantastic way to see if the model makes accurate predictions based on what we would expect!\n",
        "\n",
        "We can create a function to load our model and it's inputs and make a fresh prediction."
      ],
      "metadata": {
        "id": "_B7pfTFsZo-E"
      }
    },
    {
      "cell_type": "code",
      "source": [
        "def predict_single_text(model, text, word2idx, max_seq_length = 200, device = None):\n",
        "    \"\"\"\n",
        "    predicts the intent class of a text input\n",
        "\n",
        "    args:\n",
        "        - model: the IntentClassifier model\n",
        "        - text: text string\n",
        "        - word2idx: vocab dictionary\n",
        "        - max_seq_length: maximum sequence length\n",
        "        - device: GPU or naw\n",
        "\n",
        "    returns:\n",
        "        - predicted_class: predicted intent class\n",
        "        - class_probabilities: probabilities for each class\n",
        "    \"\"\"\n",
        "    if device is None:\n",
        "        device = torch.device('cuda' if torch.cuda.is_available() else 'cpu')\n",
        "\n",
        "    # creating a DF to hold our text input\n",
        "    df_single = pd.DataFrame({'cleaned_text': [text]})\n",
        "\n",
        "    # preparing the sequence\n",
        "    X_tensor, lengths_tensor, _ = prepare_data_for_training(df_single, max_seq_length)\n",
        "    X_tensor = X_tensor.to(device)\n",
        "    lengths_tensor = lengths_tensor.to(device)\n",
        "\n",
        "    # get the prediction\n",
        "    model.eval()\n",
        "    with torch.no_grad():\n",
        "        outputs = model(X_tensor, lengths_tensor)\n",
        "        probabilities = torch.softmax(outputs, dim = 1)\n",
        "        predicted_class = torch.argmax(outputs, dim = 1)\n",
        "\n",
        "    return predicted_class.item(), probabilities[0].cpu().numpy()"
      ],
      "metadata": {
        "id": "vaG8EE99GVtH"
      },
      "execution_count": 23,
      "outputs": []
    },
    {
      "cell_type": "code",
      "execution_count": 38,
      "metadata": {
        "id": "5Dozk9KgQWPx"
      },
      "outputs": [],
      "source": [
        "# Make a new prediction\n",
        "text = \"How does the large size fit? What is the height, length, and width of the front pannel?\"\n",
        "predicted_class, probabilities = predict_single_text(\n",
        "    model = model,\n",
        "    text = text,\n",
        "    word2idx = word2idx\n",
        ")"
      ]
    },
    {
      "cell_type": "code",
      "source": [
        "# checking the predicted class and the probabilities for each\n",
        "predicted_class, probabilities"
      ],
      "metadata": {
        "colab": {
          "base_uri": "https://localhost:8080/"
        },
        "id": "1Sp8uwgKG8LS",
        "outputId": "85afcbd8-9c5a-4d7d-d02c-97770e7eab8f"
      },
      "execution_count": 39,
      "outputs": [
        {
          "output_type": "execute_result",
          "data": {
            "text/plain": [
              "(0, array([0.594193  , 0.15960126, 0.00153587, 0.24466993], dtype=float32))"
            ]
          },
          "metadata": {},
          "execution_count": 39
        }
      ]
    },
    {
      "cell_type": "code",
      "source": [
        "# readable output\n",
        "intent_labels = ['sizing', 'tech_specs', 'recommendations', 'other']\n",
        "predicted_intent = intent_labels[predicted_class]\n",
        "print(f\"Predicted intent: {predicted_intent}\")"
      ],
      "metadata": {
        "colab": {
          "base_uri": "https://localhost:8080/"
        },
        "id": "BMhyza_bG3-t",
        "outputId": "1a445a4b-5396-4615-ebac-706ea1acbcb0"
      },
      "execution_count": 40,
      "outputs": [
        {
          "output_type": "stream",
          "name": "stdout",
          "text": [
            "Predicted intent: sizing\n"
          ]
        }
      ]
    },
    {
      "cell_type": "markdown",
      "metadata": {
        "id": "6xlrTLccO9xj"
      },
      "source": [
        "## Conclusion"
      ]
    },
    {
      "cell_type": "markdown",
      "source": [
        "In conclusion this project implemented a Bidirectional LSTM neural network to automatically classify customer inquirier into three distinct intent categories:\n",
        "\n",
        "1.  sizing questions\n",
        "2.  technical specifications\n",
        "3.  product recommendations\n",
        "\n",
        "This notebook provides an end to end example from data loading and preprocessing, model implementation, and testing and accuracy scores against our validation dataset.\n",
        "\n",
        "More specifically here's an outline of the work that was completed.\n",
        "\n",
        "\n",
        "###Data Preprocessing\n",
        "\n",
        "\n",
        "- Implemented comprehensive text cleaning and standardization\n",
        "- Created an extensive vocabulary system\n",
        "- Developed keyword labeling system for intent classification\n",
        "- Utilized padding and sequence length standardization for neural network compatibility\n",
        "\n",
        "\n",
        "###Model Architecture\n",
        "\n",
        "\n",
        "- Implemented a BiLSTM model with attention mechanism with a:\n",
        "  - embedding layer for word vector representation\n",
        "  - bi-directional LSTM layers for context capture\n",
        "  - attention mechanism on relevant words\n",
        "  - fully connected layer for final classification\n",
        "\n",
        "\n",
        "###Training Framework\n",
        "\n",
        "- Developed dataset and dataloader classes\n",
        "- Implemented early stopping\n",
        "- Included model checkpointing to save the best epoch\n",
        "- Utilized cross-entropy loss and Adam optimizer\n",
        "- Incorporated dropout for regularization\n",
        "\n",
        "Overall there were many aspects of the project achieved great results. The model was successful in classifying customer service inquiries across four intent categories, implementing attention mechanisms and early stopping to improve model accuracy. The ability for the top model to be saved/loaded into a new notebook was also included and worked extremely well.\n",
        "\n",
        "The notebook also demonstrated a reusable preprocessing pipeline that tokenized and standardized text input that was fed into the BiLSTM model. It also developed batch processing and a modular architecture to re-use in other projects.\n",
        "\n",
        "The outcome was extremely impressive. The model was able to successfully automate customer query routing by providing a probability score for each intent category.\n",
        "\n",
        "###Future Improvements\n",
        "\n",
        "Even with the success the model achieved, there are a few areas of future improvements that could be implemented. To start, the input data itself could certainly be expanded to include additional keywords to provide broader initial labeling. Additional data outside of the Amazon Sports and Outdoor could be added to incorporate more diverse customer questions.\n",
        "\n",
        "Fine-tuning of the model is another area in the proeject that could be improved upn. Additional hyperparameter tuning would result in a more accurate model. Additional model accuracy would better improve the classification of the customers questions and could avoid confusion if the model was implemented.\n",
        "\n",
        "###Business Value\n",
        "\n",
        "To reiterate, the automated intent classification system provides key business benefits including reduced response times for customer inquiries, improved routing accuracy, increased the quantity of customer questions that would be able to be handled. This framework could also be extended to offer a purely automated customer service system if additional models were trained to answer each of the three intent categories we have defined. A purely automated customer service system would allow for great cost savings and would reduce customer times to resolution.\n",
        "\n",
        "In conclusion, this project successfully implemented a BiLSTM model that improved service efficiency that would be a terrific solution for any outdoor retailer with an online store to better serve customers through automated customer service routing."
      ],
      "metadata": {
        "id": "G6zlxd6mLocu"
      }
    },
    {
      "cell_type": "markdown",
      "metadata": {
        "id": "kAIf3nMANlfr"
      },
      "source": [
        "# Citations"
      ]
    },
    {
      "cell_type": "markdown",
      "metadata": {
        "id": "KfRjJH5UNnSS"
      },
      "source": [
        "1.   Ups and downs: Modeling the visual evolution of fashion trends with one-class collaborative filtering\n",
        "R. He, J. McAuley\n",
        "WWW, 2016\n",
        "2.   Image-based recommendations on styles and substitutes\n",
        "J. McAuley, C. Targett, J. Shi, A. van den Hengel\n",
        "SIGIR, 2015"
      ]
    }
  ],
  "metadata": {
    "colab": {
      "collapsed_sections": [
        "RqP4ofueBl6k",
        "kAIf3nMANlfr"
      ],
      "provenance": []
    },
    "kernelspec": {
      "display_name": "Python 3",
      "name": "python3"
    },
    "language_info": {
      "name": "python"
    }
  },
  "nbformat": 4,
  "nbformat_minor": 0
}